{
  "nbformat": 4,
  "nbformat_minor": 0,
  "metadata": {
    "colab": {
      "name": "NLP.ipynb",
      "provenance": [],
      "authorship_tag": "ABX9TyOgR55Yt185A6pCJoAeXu3U",
      "include_colab_link": true
    },
    "kernelspec": {
      "name": "python3",
      "display_name": "Python 3"
    }
  },
  "cells": [
    {
      "cell_type": "markdown",
      "metadata": {
        "id": "view-in-github",
        "colab_type": "text"
      },
      "source": [
        "<a href=\"https://colab.research.google.com/github/madhuraswani/NLP/blob/master/NLP.ipynb\" target=\"_parent\"><img src=\"https://colab.research.google.com/assets/colab-badge.svg\" alt=\"Open In Colab\"/></a>"
      ]
    },
    {
      "cell_type": "markdown",
      "metadata": {
        "id": "DzFeupG_-J2z",
        "colab_type": "text"
      },
      "source": [
        "# ***INTRO Lecture***"
      ]
    },
    {
      "cell_type": "code",
      "metadata": {
        "id": "MevE14PR2R7q",
        "colab_type": "code",
        "colab": {
          "base_uri": "https://localhost:8080/",
          "height": 168
        },
        "outputId": "c4ffe215-217e-443f-b367-f8bb9ce36f47"
      },
      "source": [
        "!pip install -q wordcloud\n",
        "import wordcloud\n",
        "\n",
        "import nltk\n",
        "nltk.download('stopwords')\n",
        "nltk.download('wordnet')\n",
        "nltk.download('punkt')\n",
        "nltk.download('averaged_perceptron_tagger') \n",
        "\n",
        "import pandas as pd\n",
        "import matplotlib.pyplot as plt\n",
        "import io\n",
        "import unicodedata\n",
        "import numpy as np\n",
        "import re\n",
        "import string"
      ],
      "execution_count": 1,
      "outputs": [
        {
          "output_type": "stream",
          "text": [
            "[nltk_data] Downloading package stopwords to /root/nltk_data...\n",
            "[nltk_data]   Unzipping corpora/stopwords.zip.\n",
            "[nltk_data] Downloading package wordnet to /root/nltk_data...\n",
            "[nltk_data]   Unzipping corpora/wordnet.zip.\n",
            "[nltk_data] Downloading package punkt to /root/nltk_data...\n",
            "[nltk_data]   Unzipping tokenizers/punkt.zip.\n",
            "[nltk_data] Downloading package averaged_perceptron_tagger to\n",
            "[nltk_data]     /root/nltk_data...\n",
            "[nltk_data]   Unzipping taggers/averaged_perceptron_tagger.zip.\n"
          ],
          "name": "stdout"
        }
      ]
    },
    {
      "cell_type": "code",
      "metadata": {
        "id": "GRXtwzcN3GQ-",
        "colab_type": "code",
        "colab": {
          "base_uri": "https://localhost:8080/",
          "height": 50
        },
        "outputId": "0d1d2d18-18e1-4df3-db75-b02ab01b7da3"
      },
      "source": [
        "import nltk\n",
        "from nltk.tokenize import WhitespaceTokenizer\n",
        "sentence_data = \"The First sentence is about Python. The Second: Shubham lecture. You can learn Python,NLP and Data Ananlysis here. \"\n",
        "sentences = nltk.sent_tokenize(sentence_data)\n",
        "print (sentences)\n",
        "\n",
        "tk=WhitespaceTokenizer()\n",
        "tokens=tk.tokenize(sentence_data)\n",
        "print(tokens)"
      ],
      "execution_count": 6,
      "outputs": [
        {
          "output_type": "stream",
          "text": [
            "['The First sentence is about Python.', 'The Second: Shubham lecture.', 'You can learn Python,NLP and Data Ananlysis here.']\n",
            "['The', 'First', 'sentence', 'is', 'about', 'Python.', 'The', 'Second:', 'Shubham', 'lecture.', 'You', 'can', 'learn', 'Python,NLP', 'and', 'Data', 'Ananlysis', 'here.']\n"
          ],
          "name": "stdout"
        }
      ]
    },
    {
      "cell_type": "code",
      "metadata": {
        "id": "AVZcb_wW3-O7",
        "colab_type": "code",
        "colab": {
          "base_uri": "https://localhost:8080/",
          "height": 104
        },
        "outputId": "52204694-22ca-4142-c754-ced2bd0f163a"
      },
      "source": [
        "import nltk\n",
        "from nltk.stem import PorterStemmer\n",
        "from nltk.corpus import stopwords\n",
        "from nltk.stem import WordNetLemmatizer\n",
        "\n",
        "\n",
        "paragraph = \"\"\"Avengers: Endgame is a 2019 American superhero film based on the Marvel Comics superhero team the Avengers, produced by Marvel Studios and distributed by Walt Disney Studios Motion Pictures. It is the direct sequel to Avengers: Infinity War (2018) and the 22nd film in the Marvel Cinematic Universe (MCU). The film was directed by Anthony and Joe Russo and written by Christopher Markus and Stephen McFeely, and features an ensemble cast including Robert Downey Jr., Chris Evans, Mark Ruffalo, Chris Hemsworth, Scarlett Johansson, Jeremy Renner, Don Cheadle, Paul Rudd, Brie Larson, Karen Gillan, Danai Gurira, Benedict Wong, Jon Favreau, Bradley Cooper, Gwyneth Paltrow, and Josh Brolin. In the film, the surviving members of the Avengers and their allies attempt to reverse the damage caused by Thanos in Infinity War.\n",
        "\n",
        "The film was announced in October 2014 as Avengers: Infinity War – Part 2, but Marvel later removed this title. The Russo brothers joined as directors in April 2015, with Markus and McFeely signing on to write the script a month later. The film serves as a conclusion to the story of the MCU up to that point, ending the story arcs for several main characters. Filming began in August 2017 at Pinewood Atlanta Studios in Fayette County, Georgia, shooting back-to-back with Infinity War, and ended in January 2018. Additional filming took place in the Metro and Downtown Atlanta areas, New York, Scotland, and England. The story revisits several moments from earlier films, bringing back actors and settings from throughout the franchise as well as music from previous films. The official title was revealed in December 2018. With an estimated budget of $356 million, it is one of the most expensive films ever made.\n",
        "\n",
        "Avengers: Endgame was widely anticipated, and Disney backed the film with Marvel's largest marketing campaign. It premiered in Los Angeles on April 22, 2019, and was theatrically released in the United States on April 26, as part of Phase Three of the MCU. The film received praise for its direction, acting, musical score, action sequences, visual effects, and emotional weight, with critics lauding its culmination of the 22-film story. It grossed nearly $2.8 billion worldwide, surpassing Infinity War's entire theatrical run in just eleven days and breaking numerous box office records, including becoming the highest-grossing film of all time. The film received numerous awards and nominations, including a nomination for Best Visual Effects at the 92nd Academy Awards, three nominations at the 25th Critics' Choice Awards (winning two), and a nomination for Special Visual Effects at the 73rd British Academy Film Awards.\"\"\"\n",
        "               \n",
        "# Tokenizing sentences\n",
        "sentences = nltk.sent_tokenize(paragraph)\n",
        "print(len(sentences))\n",
        "stemmer=PorterStemmer()\n",
        "lemmatizer = WordNetLemmatizer()\n",
        "# Stemming\n",
        "for i in range(len(sentences)):\n",
        "    words = nltk.word_tokenize(sentences[i])\n",
        "    words = [stemmer.stem(word) for word in words if word not in set(stopwords.words('english'))]\n",
        "    sentences[i] = ' '.join(words) \n",
        "\n",
        "print(sentences) ;\n",
        "sentences = nltk.sent_tokenize(paragraph)\n",
        "print(len(sentences))\n",
        "# Lametizing\n",
        "for i in range(len(sentences)):\n",
        "    words = nltk.word_tokenize(sentences[i])\n",
        "    words = [lemmatizer.lemmatize(word) for word in words if word not in set(stopwords.words('english'))]\n",
        "    sentences[i] = ' '.join(words) \n",
        "\n",
        "\n",
        "print(sentences) ;"
      ],
      "execution_count": 11,
      "outputs": [
        {
          "output_type": "stream",
          "text": [
            "17\n",
            "['aveng : endgam 2019 american superhero film base marvel comic superhero team aveng , produc marvel studio distribut walt disney studio motion pictur .', 'It direct sequel aveng : infin war ( 2018 ) 22nd film marvel cinemat univers ( mcu ) .', 'the film direct anthoni joe russo written christoph marku stephen mcfeeli , featur ensembl cast includ robert downey jr. , chri evan , mark ruffalo , chri hemsworth , scarlett johansson , jeremi renner , don cheadl , paul rudd , brie larson , karen gillan , danai gurira , benedict wong , jon favreau , bradley cooper , gwyneth paltrow , josh brolin .', 'In film , surviv member aveng alli attempt revers damag caus thano infin war .', 'the film announc octob 2014 aveng : infin war – part 2 , marvel later remov titl .', 'the russo brother join director april 2015 , marku mcfeeli sign write script month later .', 'the film serv conclus stori mcu point , end stori arc sever main charact .', 'film began august 2017 pinewood atlanta studio fayett counti , georgia , shoot back-to-back infin war , end januari 2018 .', 'addit film took place metro downtown atlanta area , new york , scotland , england .', 'the stori revisit sever moment earlier film , bring back actor set throughout franchis well music previou film .', 'the offici titl reveal decemb 2018 .', 'with estim budget $ 356 million , one expens film ever made .', \"aveng : endgam wide anticip , disney back film marvel 's largest market campaign .\", 'It premier lo angel april 22 , 2019 , theatric releas unit state april 26 , part phase three mcu .', 'the film receiv prais direct , act , music score , action sequenc , visual effect , emot weight , critic laud culmin 22-film stori .', \"It gross nearli $ 2.8 billion worldwid , surpass infin war 's entir theatric run eleven day break numer box offic record , includ becom highest-gross film time .\", \"the film receiv numer award nomin , includ nomin best visual effect 92nd academi award , three nomin 25th critic ' choic award ( win two ) , nomin special visual effect 73rd british academi film award .\"]\n",
            "17\n",
            "['Avengers : Endgame 2019 American superhero film based Marvel Comics superhero team Avengers , produced Marvel Studios distributed Walt Disney Studios Motion Pictures .', 'It direct sequel Avengers : Infinity War ( 2018 ) 22nd film Marvel Cinematic Universe ( MCU ) .', 'The film directed Anthony Joe Russo written Christopher Markus Stephen McFeely , feature ensemble cast including Robert Downey Jr. , Chris Evans , Mark Ruffalo , Chris Hemsworth , Scarlett Johansson , Jeremy Renner , Don Cheadle , Paul Rudd , Brie Larson , Karen Gillan , Danai Gurira , Benedict Wong , Jon Favreau , Bradley Cooper , Gwyneth Paltrow , Josh Brolin .', 'In film , surviving member Avengers ally attempt reverse damage caused Thanos Infinity War .', 'The film announced October 2014 Avengers : Infinity War – Part 2 , Marvel later removed title .', 'The Russo brother joined director April 2015 , Markus McFeely signing write script month later .', 'The film serf conclusion story MCU point , ending story arc several main character .', 'Filming began August 2017 Pinewood Atlanta Studios Fayette County , Georgia , shooting back-to-back Infinity War , ended January 2018 .', 'Additional filming took place Metro Downtown Atlanta area , New York , Scotland , England .', 'The story revisits several moment earlier film , bringing back actor setting throughout franchise well music previous film .', 'The official title revealed December 2018 .', 'With estimated budget $ 356 million , one expensive film ever made .', \"Avengers : Endgame widely anticipated , Disney backed film Marvel 's largest marketing campaign .\", 'It premiered Los Angeles April 22 , 2019 , theatrically released United States April 26 , part Phase Three MCU .', 'The film received praise direction , acting , musical score , action sequence , visual effect , emotional weight , critic lauding culmination 22-film story .', \"It grossed nearly $ 2.8 billion worldwide , surpassing Infinity War 's entire theatrical run eleven day breaking numerous box office record , including becoming highest-grossing film time .\", \"The film received numerous award nomination , including nomination Best Visual Effects 92nd Academy Awards , three nomination 25th Critics ' Choice Awards ( winning two ) , nomination Special Visual Effects 73rd British Academy Film Awards .\"]\n"
          ],
          "name": "stdout"
        }
      ]
    },
    {
      "cell_type": "markdown",
      "metadata": {
        "id": "Ijm33Z1Y-c08",
        "colab_type": "text"
      },
      "source": [
        "#31-08-2020 Class Work"
      ]
    },
    {
      "cell_type": "code",
      "metadata": {
        "id": "ZBoXVJa16dPi",
        "colab_type": "code",
        "colab": {
          "base_uri": "https://localhost:8080/",
          "height": 118
        },
        "outputId": "e7344361-94ce-4c4c-fc61-976f41e45b05"
      },
      "source": [
        "#31-08-2020 Class Work\n",
        "\n",
        "import nltk\n",
        "from nltk.tokenize import WhitespaceTokenizer,WordPunctTokenizer,TreebankWordTokenizer\n",
        "sentence_data = \"This is Shubham's Text isn't it? \"\n",
        "\n",
        "tk=WhitespaceTokenizer()\n",
        "tokens=tk.tokenize(sentence_data)\n",
        "print(tokens)\n",
        "print(len(tokens))\n",
        "\n",
        "tk=WordPunctTokenizer()\n",
        "tokens=tk.tokenize(sentence_data)\n",
        "print(tokens)\n",
        "print(len(tokens))\n",
        "\n",
        "tk=TreebankWordTokenizer()\n",
        "tokens=tk.tokenize(sentence_data)\n",
        "print(tokens)\n",
        "print(len(tokens))\n"
      ],
      "execution_count": 8,
      "outputs": [
        {
          "output_type": "stream",
          "text": [
            "['This', 'is', \"Shubham's\", 'Text', \"isn't\", 'it?']\n",
            "6\n",
            "['This', 'is', 'Shubham', \"'\", 's', 'Text', 'isn', \"'\", 't', 'it', '?']\n",
            "11\n",
            "['This', 'is', 'Shubham', \"'s\", 'Text', 'is', \"n't\", 'it', '?']\n",
            "9\n"
          ],
          "name": "stdout"
        }
      ]
    }
  ]
}